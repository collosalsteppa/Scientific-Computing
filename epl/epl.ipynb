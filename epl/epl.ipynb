{
 "cells": [
  {
   "cell_type": "code",
   "execution_count": 67,
   "metadata": {},
   "outputs": [],
   "source": [
    "import requests\n",
    "import pandas as pd\n",
    "import numpy as np"
   ]
  },
  {
   "cell_type": "code",
   "execution_count": 68,
   "metadata": {},
   "outputs": [],
   "source": [
    "API_KEY='d7e1ed2abc564648890cd7bb22bd552d'"
   ]
  },
  {
   "cell_type": "code",
   "execution_count": 69,
   "metadata": {},
   "outputs": [],
   "source": [
    "# Calls the url endpoint from the website for gameweek 11 results\n",
    "url='https://api.football-data.org/v4/competitions/PL/matches?matchday=11'\n",
    "headers = {\n",
    "    'X-Auth-Token' : API_KEY\n",
    "}"
   ]
  },
  {
   "cell_type": "code",
   "execution_count": 70,
   "metadata": {},
   "outputs": [],
   "source": [
    "response= requests.get(url,headers=headers)"
   ]
  },
  {
   "cell_type": "markdown",
   "metadata": {},
   "source": []
  },
  {
   "cell_type": "code",
   "execution_count": 71,
   "metadata": {},
   "outputs": [
    {
     "name": "stdout",
     "output_type": "stream",
     "text": [
      "                    Home Team            Away Team  Home Score  Away Score\n",
      "0                Brentford FC      AFC Bournemouth           3           2\n",
      "1           Crystal Palace FC            Fulham FC           0           2\n",
      "2          West Ham United FC           Everton FC           0           0\n",
      "3  Wolverhampton Wanderers FC       Southampton FC           2           0\n",
      "4   Brighton & Hove Albion FC   Manchester City FC           2           1\n",
      "5                Liverpool FC       Aston Villa FC           2           0\n",
      "6        Manchester United FC    Leicester City FC           3           0\n",
      "7        Nottingham Forest FC  Newcastle United FC           1           3\n",
      "8        Tottenham Hotspur FC      Ipswich Town FC           1           2\n",
      "9                  Chelsea FC           Arsenal FC           1           1\n"
     ]
    }
   ],
   "source": [
    "if response.status_code == 200:\n",
    "    team_data = response.json()\n",
    "    \n",
    "    # Extract matches from the JSON response\n",
    "    matches = team_data['matches']\n",
    "    \n",
    "    # Create a list to hold match data\n",
    "    match_list = []\n",
    "    \n",
    "    # Loop through each match and extract relevant information\n",
    "    for match in matches:\n",
    "        match_info = {\n",
    "            'Home Team': match['homeTeam']['name'],\n",
    "            'Away Team': match['awayTeam']['name'],\n",
    "            'Home Score': match['score']['fullTime']['home'],\n",
    "            'Away Score': match['score']['fullTime']['away'],\n",
    "        }\n",
    "        match_list.append(match_info)\n",
    "    \n",
    "    # Create a DataFrame from the match list\n",
    "    df = pd.DataFrame(match_list)\n",
    "    \n",
    "    # Display the DataFrame in a tabular format(gameweek 11 results)\n",
    "    print(df)\n",
    "else:\n",
    "    print(f'Error: {response.status_code} - {response.text}')"
   ]
  },
  {
   "cell_type": "code",
   "execution_count": 72,
   "metadata": {},
   "outputs": [
    {
     "data": {
      "text/plain": [
       "Home Team     0\n",
       "Away Team     0\n",
       "Home Score    0\n",
       "Away Score    0\n",
       "dtype: int64"
      ]
     },
     "execution_count": 72,
     "metadata": {},
     "output_type": "execute_result"
    }
   ],
   "source": [
    "df.isna().sum()"
   ]
  },
  {
   "cell_type": "code",
   "execution_count": 73,
   "metadata": {},
   "outputs": [
    {
     "data": {
      "text/plain": [
       "(10, 4)"
      ]
     },
     "execution_count": 73,
     "metadata": {},
     "output_type": "execute_result"
    }
   ],
   "source": [
    "df.shape"
   ]
  },
  {
   "cell_type": "code",
   "execution_count": 74,
   "metadata": {},
   "outputs": [
    {
     "data": {
      "text/plain": [
       "Home Team     object\n",
       "Away Team     object\n",
       "Home Score     int64\n",
       "Away Score     int64\n",
       "dtype: object"
      ]
     },
     "execution_count": 74,
     "metadata": {},
     "output_type": "execute_result"
    }
   ],
   "source": [
    "df.dtypes"
   ]
  },
  {
   "cell_type": "code",
   "execution_count": 75,
   "metadata": {},
   "outputs": [
    {
     "data": {
      "text/html": [
       "<div>\n",
       "<style scoped>\n",
       "    .dataframe tbody tr th:only-of-type {\n",
       "        vertical-align: middle;\n",
       "    }\n",
       "\n",
       "    .dataframe tbody tr th {\n",
       "        vertical-align: top;\n",
       "    }\n",
       "\n",
       "    .dataframe thead th {\n",
       "        text-align: right;\n",
       "    }\n",
       "</style>\n",
       "<table border=\"1\" class=\"dataframe\">\n",
       "  <thead>\n",
       "    <tr style=\"text-align: right;\">\n",
       "      <th></th>\n",
       "      <th>Home Team</th>\n",
       "      <th>Away Team</th>\n",
       "      <th>Home Score</th>\n",
       "      <th>Away Score</th>\n",
       "    </tr>\n",
       "  </thead>\n",
       "  <tbody>\n",
       "    <tr>\n",
       "      <th>0</th>\n",
       "      <td>Brentford FC</td>\n",
       "      <td>AFC Bournemouth</td>\n",
       "      <td>3</td>\n",
       "      <td>2</td>\n",
       "    </tr>\n",
       "    <tr>\n",
       "      <th>1</th>\n",
       "      <td>Crystal Palace FC</td>\n",
       "      <td>Fulham FC</td>\n",
       "      <td>0</td>\n",
       "      <td>2</td>\n",
       "    </tr>\n",
       "    <tr>\n",
       "      <th>7</th>\n",
       "      <td>Nottingham Forest FC</td>\n",
       "      <td>Newcastle United FC</td>\n",
       "      <td>1</td>\n",
       "      <td>3</td>\n",
       "    </tr>\n",
       "    <tr>\n",
       "      <th>8</th>\n",
       "      <td>Tottenham Hotspur FC</td>\n",
       "      <td>Ipswich Town FC</td>\n",
       "      <td>1</td>\n",
       "      <td>2</td>\n",
       "    </tr>\n",
       "  </tbody>\n",
       "</table>\n",
       "</div>"
      ],
      "text/plain": [
       "              Home Team            Away Team  Home Score  Away Score\n",
       "0          Brentford FC      AFC Bournemouth           3           2\n",
       "1     Crystal Palace FC            Fulham FC           0           2\n",
       "7  Nottingham Forest FC  Newcastle United FC           1           3\n",
       "8  Tottenham Hotspur FC      Ipswich Town FC           1           2"
      ]
     },
     "execution_count": 75,
     "metadata": {},
     "output_type": "execute_result"
    }
   ],
   "source": [
    "df.loc[df['Away Score']>1]"
   ]
  }
 ],
 "metadata": {
  "kernelspec": {
   "display_name": ".venv",
   "language": "python",
   "name": "python3"
  },
  "language_info": {
   "codemirror_mode": {
    "name": "ipython",
    "version": 3
   },
   "file_extension": ".py",
   "mimetype": "text/x-python",
   "name": "python",
   "nbconvert_exporter": "python",
   "pygments_lexer": "ipython3",
   "version": "3.13.1"
  }
 },
 "nbformat": 4,
 "nbformat_minor": 2
}
